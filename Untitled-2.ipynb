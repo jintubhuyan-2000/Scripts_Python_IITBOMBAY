{
 "cells": [
  {
   "cell_type": "code",
   "execution_count": null,
   "metadata": {},
   "outputs": [],
   "source": [
    "import pandas as pd\n",
    "import plotly.express as px\n",
    "\n",
    "# Load your CSV data\n",
    "file_path = \"D:/IIT_BOMBAY/October/Graphs/Forest Fire Event.csv\"\n",
    "df = pd.read_csv(file_path)\n",
    "\n",
    "\n",
    "df = df.melt(id_vars=['District'], var_name='Year', value_name='FireEvents')  \n",
    "df['Year'] = df['Year'].astype(int)  \n",
    "\n",
    "\n",
    "df = df.sort_values(\"District\", ascending=False)\n",
    "\n",
    "\n",
    "fig = px.scatter(\n",
    "    df, y='Year', x='District', color='FireEvents', size='FireEvents', size_max=200,\n",
    "    color_continuous_scale=px.colors.sequential.Jet, \n",
    "    labels={\"FireEvents\": \"Fire Events\"}\n",
    ")\n",
    "\n",
    "\n",
    "fig.update_layout(\n",
    "    paper_bgcolor=\"white\",\n",
    "    plot_bgcolor=\"white\",\n",
    "    height=1000, width=1000,\n",
    "    title=\"Forest Fire Events by District and Year\"\n",
    ")\n",
    "\n",
    "\n",
    "fig.update_yaxes(showgrid=True, gridwidth=1, gridcolor='LightGray')\n",
    "fig.update_xaxes(showgrid=True, gridwidth=1, gridcolor='LightGray')\n",
    "\n",
    "\n",
    "fig.update_coloraxes(colorbar=dict(title='Fire Events'))\n",
    "\n",
    "\n",
    "fig.update_traces(marker=dict(sizeref=1))  \n",
    "\n",
    "\n",
    "fig.update_layout(showlegend=True)\n",
    "\n",
    "\n",
    "fig.show()\n"
   ]
  }
 ],
 "metadata": {
  "language_info": {
   "name": "python"
  }
 },
 "nbformat": 4,
 "nbformat_minor": 2
}
