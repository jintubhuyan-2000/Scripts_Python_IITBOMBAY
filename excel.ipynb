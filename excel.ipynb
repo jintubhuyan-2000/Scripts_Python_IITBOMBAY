{
 "cells": [
  {
   "cell_type": "code",
   "execution_count": 1,
   "metadata": {},
   "outputs": [
    {
     "name": "stdout",
     "output_type": "stream",
     "text": [
      "Defaulting to user installation because normal site-packages is not writeable\n",
      "Requirement already satisfied: pandas in c:\\users\\d-agri lab\\appdata\\local\\packages\\pythonsoftwarefoundation.python.3.12_qbz5n2kfra8p0\\localcache\\local-packages\\python312\\site-packages (2.2.2)\n",
      "Collecting openpyxl\n",
      "  Downloading openpyxl-3.1.5-py2.py3-none-any.whl.metadata (2.5 kB)\n",
      "Requirement already satisfied: numpy>=1.26.0 in c:\\users\\d-agri lab\\appdata\\local\\packages\\pythonsoftwarefoundation.python.3.12_qbz5n2kfra8p0\\localcache\\local-packages\\python312\\site-packages (from pandas) (1.26.4)\n",
      "Requirement already satisfied: python-dateutil>=2.8.2 in c:\\users\\d-agri lab\\appdata\\local\\packages\\pythonsoftwarefoundation.python.3.12_qbz5n2kfra8p0\\localcache\\local-packages\\python312\\site-packages (from pandas) (2.9.0.post0)\n",
      "Requirement already satisfied: pytz>=2020.1 in c:\\users\\d-agri lab\\appdata\\local\\packages\\pythonsoftwarefoundation.python.3.12_qbz5n2kfra8p0\\localcache\\local-packages\\python312\\site-packages (from pandas) (2024.1)\n",
      "Requirement already satisfied: tzdata>=2022.7 in c:\\users\\d-agri lab\\appdata\\local\\packages\\pythonsoftwarefoundation.python.3.12_qbz5n2kfra8p0\\localcache\\local-packages\\python312\\site-packages (from pandas) (2024.1)\n",
      "Collecting et-xmlfile (from openpyxl)\n",
      "  Downloading et_xmlfile-1.1.0-py3-none-any.whl.metadata (1.8 kB)\n",
      "Requirement already satisfied: six>=1.5 in c:\\users\\d-agri lab\\appdata\\local\\packages\\pythonsoftwarefoundation.python.3.12_qbz5n2kfra8p0\\localcache\\local-packages\\python312\\site-packages (from python-dateutil>=2.8.2->pandas) (1.16.0)\n",
      "Downloading openpyxl-3.1.5-py2.py3-none-any.whl (250 kB)\n",
      "Downloading et_xmlfile-1.1.0-py3-none-any.whl (4.7 kB)\n",
      "Installing collected packages: et-xmlfile, openpyxl\n",
      "Successfully installed et-xmlfile-1.1.0 openpyxl-3.1.5\n",
      "Note: you may need to restart the kernel to use updated packages.\n"
     ]
    }
   ],
   "source": [
    "pip install pandas openpyxl"
   ]
  },
  {
   "cell_type": "code",
   "execution_count": 4,
   "metadata": {},
   "outputs": [
    {
     "name": "stdout",
     "output_type": "stream",
     "text": [
      "Monthly counts saved to D:/IIT_BOMBAY/October/Maharashtra csv/monthly_counts.xlsx\n"
     ]
    }
   ],
   "source": [
    "import pandas as pd\n",
    "\n",
    "# Load the Excel file\n",
    "file_path = \"D:/IIT_BOMBAY/October/Maharashtra csv/2005.xlsx\"  # Replace with your actual file path\n",
    "df = pd.read_excel(file_path)\n",
    "\n",
    "# Convert the 'acq_date' column to datetime format\n",
    "df['acq_date'] = pd.to_datetime(df['acq_date'], format='%d-%m-%Y')\n",
    "\n",
    "# Extract month and year from the 'acq_date' column\n",
    "df['month_year'] = df['acq_date'].dt.to_period('M')\n",
    "\n",
    "# Count the occurrences of each month\n",
    "month_counts = df['month_year'].value_counts().sort_index()\n",
    "\n",
    "# Save the result to a new Excel file\n",
    "output_file = 'D:/IIT_BOMBAY/October/Maharashtra csv/monthly_counts.xlsx'\n",
    "month_counts.to_excel(output_file, header=['Count'], index_label='Month')\n",
    "\n",
    "print(f\"Monthly counts saved to {output_file}\")\n"
   ]
  },
  {
   "cell_type": "code",
   "execution_count": 5,
   "metadata": {},
   "outputs": [
    {
     "name": "stdout",
     "output_type": "stream",
     "text": [
      "Monthly counts saved to D:/IIT_BOMBAY/October/Maharashtra csv/Monthly Counts\\Monthly_Counts_2005.xlsx\n",
      "Monthly counts saved to D:/IIT_BOMBAY/October/Maharashtra csv/Monthly Counts\\Monthly_Counts_2006.xlsx\n",
      "Monthly counts saved to D:/IIT_BOMBAY/October/Maharashtra csv/Monthly Counts\\Monthly_Counts_2007.xlsx\n",
      "Monthly counts saved to D:/IIT_BOMBAY/October/Maharashtra csv/Monthly Counts\\Monthly_Counts_2008.xlsx\n",
      "Monthly counts saved to D:/IIT_BOMBAY/October/Maharashtra csv/Monthly Counts\\Monthly_Counts_2009.xlsx\n",
      "Monthly counts saved to D:/IIT_BOMBAY/October/Maharashtra csv/Monthly Counts\\Monthly_Counts_2010.xlsx\n",
      "Monthly counts saved to D:/IIT_BOMBAY/October/Maharashtra csv/Monthly Counts\\Monthly_Counts_2011.xlsx\n",
      "Monthly counts saved to D:/IIT_BOMBAY/October/Maharashtra csv/Monthly Counts\\Monthly_Counts_2012.xlsx\n",
      "Monthly counts saved to D:/IIT_BOMBAY/October/Maharashtra csv/Monthly Counts\\Monthly_Counts_2013.xlsx\n",
      "Monthly counts saved to D:/IIT_BOMBAY/October/Maharashtra csv/Monthly Counts\\Monthly_Counts_2014.xlsx\n",
      "Monthly counts saved to D:/IIT_BOMBAY/October/Maharashtra csv/Monthly Counts\\Monthly_Counts_2015.xlsx\n",
      "Monthly counts saved to D:/IIT_BOMBAY/October/Maharashtra csv/Monthly Counts\\Monthly_Counts_2016.xlsx\n",
      "Monthly counts saved to D:/IIT_BOMBAY/October/Maharashtra csv/Monthly Counts\\Monthly_Counts_2017.xlsx\n",
      "Monthly counts saved to D:/IIT_BOMBAY/October/Maharashtra csv/Monthly Counts\\Monthly_Counts_2018.xlsx\n",
      "Monthly counts saved to D:/IIT_BOMBAY/October/Maharashtra csv/Monthly Counts\\Monthly_Counts_2019.xlsx\n",
      "Monthly counts saved to D:/IIT_BOMBAY/October/Maharashtra csv/Monthly Counts\\Monthly_Counts_2020.xlsx\n",
      "Monthly counts saved to D:/IIT_BOMBAY/October/Maharashtra csv/Monthly Counts\\Monthly_Counts_2021.xlsx\n",
      "Monthly counts saved to D:/IIT_BOMBAY/October/Maharashtra csv/Monthly Counts\\Monthly_Counts_2022.xlsx\n",
      "Monthly counts saved to D:/IIT_BOMBAY/October/Maharashtra csv/Monthly Counts\\Monthly_Counts_2023.xlsx\n"
     ]
    }
   ],
   "source": [
    "import pandas as pd\n",
    "import os\n",
    "\n",
    "# Define the input and output directories\n",
    "input_folder = 'D:/IIT_BOMBAY/October/Maharashtra csv'  # Replace with your actual folder path\n",
    "output_folder = 'D:/IIT_BOMBAY/October/Maharashtra csv/Monthly Counts'\n",
    "\n",
    "# Create the output folder if it doesn't exist\n",
    "if not os.path.exists(output_folder):\n",
    "    os.makedirs(output_folder)\n",
    "\n",
    "# Loop through each Excel file in the input folder\n",
    "for filename in os.listdir(input_folder):\n",
    "    if filename.endswith('.xlsx'):  # Process only Excel files\n",
    "        file_path = os.path.join(input_folder, filename)\n",
    "\n",
    "        # Load the Excel file\n",
    "        df = pd.read_excel(file_path)\n",
    "\n",
    "        # Convert the 'acq_date' column to datetime format\n",
    "        df['acq_date'] = pd.to_datetime(df['acq_date'], format='%d-%m-%Y', errors='coerce')\n",
    "\n",
    "        # Drop rows with invalid or missing dates\n",
    "        df = df.dropna(subset=['acq_date'])\n",
    "\n",
    "        # Extract month and year from the 'acq_date' column\n",
    "        df['month_year'] = df['acq_date'].dt.to_period('M')\n",
    "\n",
    "        # Count the occurrences of each month\n",
    "        month_counts = df['month_year'].value_counts().sort_index()\n",
    "\n",
    "        # Prepare the output file path\n",
    "        output_file = os.path.join(output_folder, f'Monthly_Counts_{filename}')\n",
    "\n",
    "        # Save the result to a new Excel file\n",
    "        month_counts.to_excel(output_file, header=['Count'], index_label='Month')\n",
    "\n",
    "        print(f\"Monthly counts saved to {output_file}\")\n"
   ]
  },
  {
   "cell_type": "code",
   "execution_count": 6,
   "metadata": {},
   "outputs": [
    {
     "name": "stdout",
     "output_type": "stream",
     "text": [
      "File saved to D:/IIT_BOMBAY/October/Analysis/modified_analysis.xlsx\n"
     ]
    }
   ],
   "source": [
    "import pandas as pd\n",
    "\n",
    "# Load the Excel file\n",
    "file_path = \"D:/IIT_BOMBAY/October/Analysis/analysis.xlsx\"  # Replace with your actual file path\n",
    "df = pd.read_excel(file_path)\n",
    "\n",
    "# Convert the 'Month' column to datetime format if it's not already\n",
    "df['Month'] = pd.to_datetime(df['Month'], errors='coerce')\n",
    "\n",
    "# Convert 'Month' column to the desired format: \"Month Year\" (e.g., \"January 2005\")\n",
    "df['Month'] = df['Month'].dt.strftime('%B %Y')\n",
    "\n",
    "# Save the modified dataframe to a new Excel file\n",
    "output_file = \"D:/IIT_BOMBAY/October/Analysis/modified_analysis.xlsx\" \n",
    "df.to_excel(output_file, index=False)\n",
    "\n",
    "print(f\"File saved to {output_file}\")\n"
   ]
  }
 ],
 "metadata": {
  "kernelspec": {
   "display_name": "Python 3",
   "language": "python",
   "name": "python3"
  },
  "language_info": {
   "codemirror_mode": {
    "name": "ipython",
    "version": 3
   },
   "file_extension": ".py",
   "mimetype": "text/x-python",
   "name": "python",
   "nbconvert_exporter": "python",
   "pygments_lexer": "ipython3",
   "version": "3.12.7"
  }
 },
 "nbformat": 4,
 "nbformat_minor": 2
}
