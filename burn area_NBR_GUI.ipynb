{
 "cells": [
  {
   "cell_type": "code",
   "execution_count": 1,
   "metadata": {},
   "outputs": [],
   "source": [
    "import geopandas as gpd\n",
    "import openeo\n",
    "from openeo.extra.spectral_indices import compute_indices\n",
    "import matplotlib.pyplot as plt\n",
    "import numpy as np\n",
    "\n"
   ]
  },
  {
   "cell_type": "code",
   "execution_count": 3,
   "metadata": {},
   "outputs": [],
   "source": [
    "# Define file path to the shapefile\n",
    "shapefile_path = r\"D:\\Acres\\December 2024\\Assignment 1\\Jharkhand\\Dhanbad1.shp\"\n",
    "\n",
    "# Read the shapefile using GeoPandas\n",
    "gdf = gpd.read_file(shapefile_path)"
   ]
  },
  {
   "cell_type": "code",
   "execution_count": 4,
   "metadata": {},
   "outputs": [],
   "source": [
    "# Get the bounding box of the shapefile as the spatial extent\n",
    "bounds = gdf.total_bounds\n",
    "extent = {\n",
    "    \"west\": bounds[0],\n",
    "    \"south\": bounds[1],\n",
    "    \"east\": bounds[2],\n",
    "    \"north\": bounds[3],\n",
    "}"
   ]
  },
  {
   "cell_type": "code",
   "execution_count": 5,
   "metadata": {},
   "outputs": [
    {
     "name": "stdout",
     "output_type": "stream",
     "text": [
      "Authenticated using refresh token.\n"
     ]
    }
   ],
   "source": [
    "# Connect to the OpenEO backend and authenticate\n",
    "connection = openeo.connect(\"openeo.dataspace.copernicus.eu\").authenticate_oidc()\n",
    "\n",
    "# Define temporal extents for pre-fire and post-fire analysis\n",
    "pre_fire_start = \"2023-05-03\"\n",
    "pre_fire_end = \"2023-08-03\"\n",
    "post_fire_start = \"2023-08-04\"\n",
    "post_fire_end = \"2023-11-03\""
   ]
  },
  {
   "cell_type": "code",
   "execution_count": 11,
   "metadata": {},
   "outputs": [
    {
     "name": "stdout",
     "output_type": "stream",
     "text": [
      "Authenticated using refresh token.\n"
     ]
    }
   ],
   "source": [
    "connection = openeo.connect(\"openeo.dataspace.copernicus.eu\").authenticate_oidc()\n"
   ]
  },
  {
   "cell_type": "code",
   "execution_count": 6,
   "metadata": {},
   "outputs": [],
   "source": [
    "# Load Sentinel-2 pre-fire collection\n",
    "s2pre = connection.load_collection(\n",
    "    \"SENTINEL2_L2A\",\n",
    "    temporal_extent=[pre_fire_start, pre_fire_end],\n",
    "    spatial_extent=extent,\n",
    "    bands=[\"B04\", \"B08\", \"B12\"],\n",
    "    max_cloud_cover=90,\n",
    ")\n",
    "\n",
    "# Load Sentinel-2 post-fire collection\n",
    "s2post = connection.load_collection(\n",
    "    \"SENTINEL2_L2A\",\n",
    "    temporal_extent=[post_fire_start, post_fire_end],\n",
    "    spatial_extent=extent,\n",
    "    bands=[\"B04\", \"B08\", \"B12\"],\n",
    "    max_cloud_cover=90,\n",
    ")"
   ]
  },
  {
   "cell_type": "code",
   "execution_count": 12,
   "metadata": {},
   "outputs": [],
   "source": [
    "# Compute Normalized Burn Ratio (NBR) for pre-fire and post-fire\n",
    "def compute_nbr(collection):\n",
    "    return collection.ndvi(nir=\"B08\", red=\"B12\")\n",
    "\n",
    "nbr_pre = compute_nbr(s2pre)\n",
    "nbr_post = compute_nbr(s2post)\n",
    "\n",
    "# Compute delta Normalized Burn Ratio (dNBR)\n",
    "dnbr = nbr_pre.subtract(nbr_post)"
   ]
  },
  {
   "cell_type": "code",
   "execution_count": 13,
   "metadata": {},
   "outputs": [
    {
     "name": "stderr",
     "output_type": "stream",
     "text": [
      "<>:7: SyntaxWarning: invalid escape sequence '\\d'\n",
      "<>:7: SyntaxWarning: invalid escape sequence '\\d'\n",
      "C:\\Users\\Admin\\AppData\\Local\\Temp\\ipykernel_8652\\855412932.py:7: SyntaxWarning: invalid escape sequence '\\d'\n",
      "  dnbr_output = f\"{output_dir}\\dnbr.tif\"\n"
     ]
    },
    {
     "ename": "OSError",
     "evalue": "[Errno 22] Invalid argument: 'D:\\\\JRF_IIT_BOMBAY\\\\December\\\\DNBR_CORPONICUS\\nbr_pre.tif'",
     "output_type": "error",
     "traceback": [
      "\u001b[1;31m---------------------------------------------------------------------------\u001b[0m",
      "\u001b[1;31mOSError\u001b[0m                                   Traceback (most recent call last)",
      "Cell \u001b[1;32mIn[13], line 10\u001b[0m\n\u001b[0;32m      7\u001b[0m dnbr_output \u001b[38;5;241m=\u001b[39m \u001b[38;5;124mf\u001b[39m\u001b[38;5;124m\"\u001b[39m\u001b[38;5;132;01m{\u001b[39;00moutput_dir\u001b[38;5;132;01m}\u001b[39;00m\u001b[38;5;124m\\\u001b[39m\u001b[38;5;124mdnbr.tif\u001b[39m\u001b[38;5;124m\"\u001b[39m\n\u001b[0;32m      9\u001b[0m \u001b[38;5;66;03m# Save results with correct method for saving\u001b[39;00m\n\u001b[1;32m---> 10\u001b[0m nbr_pre\u001b[38;5;241m.\u001b[39mdownload(nbr_pre_output, \u001b[38;5;28mformat\u001b[39m\u001b[38;5;241m=\u001b[39m\u001b[38;5;124m\"\u001b[39m\u001b[38;5;124mGTiff\u001b[39m\u001b[38;5;124m\"\u001b[39m)\n\u001b[0;32m     11\u001b[0m nbr_post\u001b[38;5;241m.\u001b[39mdownload(nbr_post_output, \u001b[38;5;28mformat\u001b[39m\u001b[38;5;241m=\u001b[39m\u001b[38;5;124m\"\u001b[39m\u001b[38;5;124mGTiff\u001b[39m\u001b[38;5;124m\"\u001b[39m)\n\u001b[0;32m     12\u001b[0m dnbr\u001b[38;5;241m.\u001b[39mdownload(dnbr_output, \u001b[38;5;28mformat\u001b[39m\u001b[38;5;241m=\u001b[39m\u001b[38;5;124m\"\u001b[39m\u001b[38;5;124mGTiff\u001b[39m\u001b[38;5;124m\"\u001b[39m)\n",
      "File \u001b[1;32mc:\\Users\\Admin\\anaconda3\\envs\\JintuEnv\\Lib\\site-packages\\openeo\\rest\\datacube.py:2370\u001b[0m, in \u001b[0;36mDataCube.download\u001b[1;34m(self, outputfile, format, options, validate, auto_add_save_result, additional, job_options)\u001b[0m\n\u001b[0;32m   2361\u001b[0m \u001b[38;5;28;01mif\u001b[39;00m auto_add_save_result:\n\u001b[0;32m   2362\u001b[0m     cube \u001b[38;5;241m=\u001b[39m _ensure_save_result(\n\u001b[0;32m   2363\u001b[0m         cube\u001b[38;5;241m=\u001b[39mcube,\n\u001b[0;32m   2364\u001b[0m         \u001b[38;5;28mformat\u001b[39m\u001b[38;5;241m=\u001b[39m\u001b[38;5;28mformat\u001b[39m,\n\u001b[1;32m   (...)\u001b[0m\n\u001b[0;32m   2368\u001b[0m         method\u001b[38;5;241m=\u001b[39m\u001b[38;5;124m\"\u001b[39m\u001b[38;5;124mDataCube.download()\u001b[39m\u001b[38;5;124m\"\u001b[39m,\n\u001b[0;32m   2369\u001b[0m     )\n\u001b[1;32m-> 2370\u001b[0m \u001b[38;5;28;01mreturn\u001b[39;00m \u001b[38;5;28mself\u001b[39m\u001b[38;5;241m.\u001b[39m_connection\u001b[38;5;241m.\u001b[39mdownload(\n\u001b[0;32m   2371\u001b[0m     cube\u001b[38;5;241m.\u001b[39mflat_graph(), outputfile, validate\u001b[38;5;241m=\u001b[39mvalidate, additional\u001b[38;5;241m=\u001b[39madditional, job_options\u001b[38;5;241m=\u001b[39mjob_options\n\u001b[0;32m   2372\u001b[0m )\n",
      "File \u001b[1;32mc:\\Users\\Admin\\anaconda3\\envs\\JintuEnv\\Lib\\site-packages\\openeo\\rest\\connection.py:1751\u001b[0m, in \u001b[0;36mConnection.download\u001b[1;34m(self, graph, outputfile, timeout, validate, chunk_size, additional, job_options)\u001b[0m\n\u001b[0;32m   1742\u001b[0m response \u001b[38;5;241m=\u001b[39m \u001b[38;5;28mself\u001b[39m\u001b[38;5;241m.\u001b[39mpost(\n\u001b[0;32m   1743\u001b[0m     path\u001b[38;5;241m=\u001b[39m\u001b[38;5;124m\"\u001b[39m\u001b[38;5;124m/result\u001b[39m\u001b[38;5;124m\"\u001b[39m,\n\u001b[0;32m   1744\u001b[0m     json\u001b[38;5;241m=\u001b[39mpg_with_metadata,\n\u001b[1;32m   (...)\u001b[0m\n\u001b[0;32m   1747\u001b[0m     timeout\u001b[38;5;241m=\u001b[39mtimeout \u001b[38;5;129;01mor\u001b[39;00m DEFAULT_TIMEOUT_SYNCHRONOUS_EXECUTE,\n\u001b[0;32m   1748\u001b[0m )\n\u001b[0;32m   1750\u001b[0m \u001b[38;5;28;01mif\u001b[39;00m outputfile \u001b[38;5;129;01mis\u001b[39;00m \u001b[38;5;129;01mnot\u001b[39;00m \u001b[38;5;28;01mNone\u001b[39;00m:\n\u001b[1;32m-> 1751\u001b[0m     \u001b[38;5;28;01mwith\u001b[39;00m Path(outputfile)\u001b[38;5;241m.\u001b[39mopen(mode\u001b[38;5;241m=\u001b[39m\u001b[38;5;124m\"\u001b[39m\u001b[38;5;124mwb\u001b[39m\u001b[38;5;124m\"\u001b[39m) \u001b[38;5;28;01mas\u001b[39;00m f:\n\u001b[0;32m   1752\u001b[0m         \u001b[38;5;28;01mfor\u001b[39;00m chunk \u001b[38;5;129;01min\u001b[39;00m response\u001b[38;5;241m.\u001b[39miter_content(chunk_size\u001b[38;5;241m=\u001b[39mchunk_size):\n\u001b[0;32m   1753\u001b[0m             f\u001b[38;5;241m.\u001b[39mwrite(chunk)\n",
      "File \u001b[1;32mc:\\Users\\Admin\\anaconda3\\envs\\JintuEnv\\Lib\\pathlib.py:1013\u001b[0m, in \u001b[0;36mPath.open\u001b[1;34m(self, mode, buffering, encoding, errors, newline)\u001b[0m\n\u001b[0;32m   1011\u001b[0m \u001b[38;5;28;01mif\u001b[39;00m \u001b[38;5;124m\"\u001b[39m\u001b[38;5;124mb\u001b[39m\u001b[38;5;124m\"\u001b[39m \u001b[38;5;129;01mnot\u001b[39;00m \u001b[38;5;129;01min\u001b[39;00m mode:\n\u001b[0;32m   1012\u001b[0m     encoding \u001b[38;5;241m=\u001b[39m io\u001b[38;5;241m.\u001b[39mtext_encoding(encoding)\n\u001b[1;32m-> 1013\u001b[0m \u001b[38;5;28;01mreturn\u001b[39;00m io\u001b[38;5;241m.\u001b[39mopen(\u001b[38;5;28mself\u001b[39m, mode, buffering, encoding, errors, newline)\n",
      "\u001b[1;31mOSError\u001b[0m: [Errno 22] Invalid argument: 'D:\\\\JRF_IIT_BOMBAY\\\\December\\\\DNBR_CORPONICUS\\nbr_pre.tif'"
     ]
    }
   ],
   "source": [
    "# Define output directory\n",
    "output_dir = r\"D:\\JRF_IIT_BOMBAY\\December\\DNBR_CORPONICUS\"\n",
    "\n",
    "# Save results\n",
    "nbr_pre_output = f\"{output_dir}\\nbr_pre.tif\"\n",
    "nbr_post_output = f\"{output_dir}\\nbr_post.tif\"\n",
    "dnbr_output = f\"{output_dir}\\dnbr.tif\"\n",
    "\n",
    "# Save results with correct method for saving\n",
    "nbr_pre.download(nbr_pre_output, format=\"GTiff\")\n",
    "nbr_post.download(nbr_post_output, format=\"GTiff\")\n",
    "dnbr.download(dnbr_output, format=\"GTiff\")\n",
    "\n",
    "print(f\"NBR pre-fire saved to {nbr_pre_output}\")\n",
    "print(f\"NBR post-fire saved to {nbr_post_output}\")\n",
    "print(f\"dNBR saved to {dnbr_output}\")\n"
   ]
  },
  {
   "cell_type": "code",
   "execution_count": null,
   "metadata": {},
   "outputs": [],
   "source": [
    "# Generate and display images\n",
    "plt.figure(figsize=(15, 5))\n",
    "\n",
    "# Placeholder data for demonstration (replace with actual raster data when available)\n",
    "nbr_pre_array = np.random.random((100, 100))  # Replace with actual data\n",
    "nbr_post_array = np.random.random((100, 100))  # Replace with actual data\n",
    "dnbr_array = nbr_pre_array - nbr_post_array  # Replace with actual computation\n",
    "\n",
    "# Pre-fire NBR\n",
    "plt.subplot(1, 3, 1)\n",
    "plt.imshow(nbr_pre_array, cmap=\"RdYlGn\")\n",
    "plt.colorbar(label=\"NBR Value\")\n",
    "plt.title(\"Pre-Fire NBR\")\n",
    "\n",
    "# Post-fire NBR\n",
    "plt.subplot(1, 3, 2)\n",
    "plt.imshow(nbr_post_array, cmap=\"RdYlGn\")\n",
    "plt.colorbar(label=\"NBR Value\")\n",
    "plt.title(\"Post-Fire NBR\")\n",
    "\n",
    "# dNBR\n",
    "plt.subplot(1, 3, 3)\n",
    "plt.imshow(dnbr_array, cmap=\"RdYlGn\")\n",
    "plt.colorbar(label=\"dNBR Value\")\n",
    "plt.title(\"Delta NBR (dNBR)\")\n",
    "\n",
    "# Save the figure\n",
    "image_output = f\"{output_dir}\\dnbr_analysis.png\"\n",
    "plt.savefig(image_output)\n",
    "print(f\"Analysis image saved to {image_output}\")\n",
    "\n",
    "# Calculate statistics\n",
    "mean_pre = np.mean(nbr_pre_array)\n",
    "mean_post = np.mean(nbr_post_array)\n",
    "mean_dnbr = np.mean(dnbr_array)\n",
    "\n",
    "print(\"Statistics:\")\n",
    "print(f\"Mean Pre-Fire NBR: {mean_pre}\")\n",
    "print(f\"Mean Post-Fire NBR: {mean_post}\")\n",
    "print(f\"Mean dNBR: {mean_dnbr}\")\n"
   ]
  }
 ],
 "metadata": {
  "kernelspec": {
   "display_name": "JintuEnv",
   "language": "python",
   "name": "python3"
  },
  "language_info": {
   "codemirror_mode": {
    "name": "ipython",
    "version": 3
   },
   "file_extension": ".py",
   "mimetype": "text/x-python",
   "name": "python",
   "nbconvert_exporter": "python",
   "pygments_lexer": "ipython3",
   "version": "3.12.4"
  }
 },
 "nbformat": 4,
 "nbformat_minor": 2
}
